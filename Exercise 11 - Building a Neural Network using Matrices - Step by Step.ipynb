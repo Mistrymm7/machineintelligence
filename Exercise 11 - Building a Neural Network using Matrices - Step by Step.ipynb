{
 "cells": [
  {
   "cell_type": "code",
   "execution_count": 1,
   "metadata": {},
   "outputs": [],
   "source": [
    "%config InlineBackend.figure_format = 'retina'\n",
    "import matplotlib.pyplot as plt\n",
    "import numpy as np\n",
    "np.set_printoptions(precision=3)\n",
    "np.set_printoptions(suppress=True)"
   ]
  },
  {
   "cell_type": "markdown",
   "metadata": {},
   "source": [
    "# Neural Network implementation with Matrices #1: Predefined Network"
   ]
  },
  {
   "cell_type": "markdown",
   "metadata": {},
   "source": [
    "### Some additional vector and matrix manipulation functions"
   ]
  },
  {
   "cell_type": "markdown",
   "metadata": {},
   "source": [
    "$A$ is a matrix defined as:"
   ]
  },
  {
   "cell_type": "code",
   "execution_count": 2,
   "metadata": {},
   "outputs": [
    {
     "name": "stdout",
     "output_type": "stream",
     "text": [
      "[[ 1  3  5 -1]\n",
      " [ 0 -2 -7  3]]\n"
     ]
    }
   ],
   "source": [
    "A = np.array([[1, 3, 5, -1],\n",
    "              [0, -2, -7, 3]])\n",
    "print (A)"
   ]
  },
  {
   "cell_type": "markdown",
   "metadata": {},
   "source": [
    "What is the shape of this matrix:"
   ]
  },
  {
   "cell_type": "code",
   "execution_count": null,
   "metadata": {},
   "outputs": [],
   "source": []
  },
  {
   "cell_type": "markdown",
   "metadata": {},
   "source": [
    "Transform the matrix so that its rows become its columns and the columns its rows:"
   ]
  },
  {
   "cell_type": "code",
   "execution_count": null,
   "metadata": {},
   "outputs": [],
   "source": []
  },
  {
   "cell_type": "markdown",
   "metadata": {},
   "source": [
    "What is the shape of the **transposed** matrix A:"
   ]
  },
  {
   "cell_type": "code",
   "execution_count": null,
   "metadata": {},
   "outputs": [],
   "source": []
  },
  {
   "cell_type": "markdown",
   "metadata": {},
   "source": [
    "____"
   ]
  },
  {
   "cell_type": "markdown",
   "metadata": {},
   "source": [
    "$B$ is a 6-dimensional row vector:"
   ]
  },
  {
   "cell_type": "code",
   "execution_count": 9,
   "metadata": {
    "scrolled": true
   },
   "outputs": [
    {
     "name": "stdout",
     "output_type": "stream",
     "text": [
      "[1 0 1 0 1 0]\n"
     ]
    }
   ],
   "source": [
    "B = np.array([1,0,1,0,1,0])\n",
    "print (B)"
   ]
  },
  {
   "cell_type": "markdown",
   "metadata": {},
   "source": [
    "Reshape the vector $B$ vector into a $3\\times 2$ matrix:"
   ]
  },
  {
   "cell_type": "code",
   "execution_count": null,
   "metadata": {},
   "outputs": [],
   "source": []
  },
  {
   "cell_type": "markdown",
   "metadata": {},
   "source": [
    "Reshape the vector $B$ vector into a $6\\times 1$ matrix:"
   ]
  },
  {
   "cell_type": "code",
   "execution_count": null,
   "metadata": {},
   "outputs": [],
   "source": []
  },
  {
   "cell_type": "markdown",
   "metadata": {},
   "source": [
    "________"
   ]
  },
  {
   "cell_type": "markdown",
   "metadata": {},
   "source": [
    "## Neural Network's Architecture and Data set"
   ]
  },
  {
   "cell_type": "markdown",
   "metadata": {},
   "source": [
    "The architecture of the network we will implement by using matrices will remain the same as in the previous example, but we will display it by using our new naming convention:"
   ]
  },
  {
   "cell_type": "markdown",
   "metadata": {},
   "source": [
    "<img src=\"img/neural_networks_26-new.png\" alt=\"drawing\" width=\"950\"/>"
   ]
  },
  {
   "cell_type": "markdown",
   "metadata": {},
   "source": [
    "We will also use the same dataset we used before:"
   ]
  },
  {
   "cell_type": "code",
   "execution_count": 15,
   "metadata": {},
   "outputs": [],
   "source": [
    "data = np.array([[ 1.2, 0.7],\n",
    "                 [-0.3,-0.5],\n",
    "                 [ 3.0, 0.1],\n",
    "                 [-0.1,-1.0],\n",
    "                 [-0.0, 1.1],\n",
    "                 [ 2.1,-1.3],\n",
    "                 [ 3.1,-1.8],\n",
    "                 [ 1.1,-0.1],\n",
    "                 [ 1.5,-2.2],\n",
    "                 [ 4.0,-1.0]])"
   ]
  },
  {
   "cell_type": "code",
   "execution_count": 16,
   "metadata": {},
   "outputs": [],
   "source": [
    "labels = np.array([  1,\n",
    "                     0,\n",
    "                     1,\n",
    "                     0,\n",
    "                     0,\n",
    "                     1,\n",
    "                     0,\n",
    "                     1,\n",
    "                     0,\n",
    "                     0])"
   ]
  },
  {
   "cell_type": "code",
   "execution_count": 17,
   "metadata": {},
   "outputs": [],
   "source": [
    "def plot_data(data, labels):\n",
    "    fig = plt.figure(figsize=(5,5))\n",
    "    ax = fig.add_subplot(111)\n",
    "    ax.scatter(data[:,0], data[:,1], c=labels, s=50,  cmap=plt.cm.bwr,zorder=50)\n",
    "    nudge = 0.08\n",
    "    for i, d in enumerate(data):\n",
    "        ax.annotate(f'{i}',(d[0]+nudge,d[1]+nudge))\n",
    "    ax.set_aspect('equal', 'datalim')\n",
    "    plt.show()"
   ]
  },
  {
   "cell_type": "code",
   "execution_count": 18,
   "metadata": {},
   "outputs": [
    {
     "data": {
      "image/png": "[encoded data removed]",
      "text/plain": [
       "<Figure size 360x360 with 1 Axes>"
      ]
     },
     "metadata": {
      "image/png": {
       "height": 304,
       "width": 316
      },
      "needs_background": "light"
     },
     "output_type": "display_data"
    }
   ],
   "source": [
    "plot_data(data, labels)"
   ]
  },
  {
   "cell_type": "markdown",
   "metadata": {},
   "source": [
    "## Initialising neural network layers"
   ]
  },
  {
   "cell_type": "markdown",
   "metadata": {},
   "source": [
    "### Weights"
   ]
  },
  {
   "cell_type": "markdown",
   "metadata": {},
   "source": [
    "<img src=\"img/neural_networks_29.png\" alt=\"drawing\" width=\"400\"/>"
   ]
  },
  {
   "cell_type": "markdown",
   "metadata": {},
   "source": [
    "#### Weights of the layer $l_2$"
   ]
  },
  {
   "cell_type": "markdown",
   "metadata": {},
   "source": [
    "Since the layer 2 has 3 neurons, and the layer 1 has 2 neurons, this matrix will be of the size $3x2$."
   ]
  },
  {
   "cell_type": "markdown",
   "metadata": {},
   "source": [
    "$$\n",
    "\\mathbf{W}^{(l_2)}\n",
    "=\n",
    "\\underset{\\mathbf{3x2}}{\n",
    "\\begin{bmatrix}\n",
    "w_{11}^{(l_2)} & w_{12}^{(l_2)}\\\\\n",
    "w_{21}^{(l_2)} & w_{22}^{(l_2)}\\\\\n",
    "w_{31}^{(l_2)} & w_{32}^{(l_2)}\\\\\n",
    "\\end{bmatrix}\\\\\n",
    "}\n",
    "$$"
   ]
  },
  {
   "cell_type": "markdown",
   "metadata": {},
   "source": [
    "By using the  _nympy_'s function `randn`, encode the matrix $\\mathbf{W}^{(l_2)}$, fill it with normally distributed random values  and store it in the variable `W_2`:"
   ]
  },
  {
   "cell_type": "code",
   "execution_count": null,
   "metadata": {},
   "outputs": [],
   "source": []
  },
  {
   "cell_type": "markdown",
   "metadata": {},
   "source": [
    "#### Weights of the layer $l_3$"
   ]
  },
  {
   "cell_type": "markdown",
   "metadata": {},
   "source": [
    "The layer 3 has 2 neurons and its previous layer ($l_2$) has 3 neurons, thus 3 activations. For this reason, the weight matrix $\\mathbf{W}^{(l_3)}$ will be of the size $2x3$."
   ]
  },
  {
   "cell_type": "markdown",
   "metadata": {},
   "source": [
    "$$\\\n",
    "\\mathbf{W}^{(l_3)}\n",
    "=\n",
    "\\underset{\\mathbf{2x3}}{\n",
    "\\begin{bmatrix}\n",
    "w_{11}^{(l_3)} & w_{12}^{(l_3)} & w_{13}^{(l_3)}\\\\\n",
    "w_{21}^{(l_3)} & w_{22}^{(l_3)} & w_{23}^{(l_3)}\\\\\n",
    "\\end{bmatrix}\\\\\n",
    "}\n",
    "$$"
   ]
  },
  {
   "cell_type": "markdown",
   "metadata": {},
   "source": [
    "Encode the matrix $\\mathbf{W}^{(l_3)}$, fill it with normally distributed random values  and store it in the variable `W_3`:"
   ]
  },
  {
   "cell_type": "code",
   "execution_count": null,
   "metadata": {},
   "outputs": [],
   "source": []
  },
  {
   "cell_type": "markdown",
   "metadata": {},
   "source": [
    "### Biases"
   ]
  },
  {
   "cell_type": "markdown",
   "metadata": {},
   "source": [
    "<img src=\"img/neural_networks_30.png\" alt=\"drawing\" width=\"400\"/>"
   ]
  },
  {
   "cell_type": "markdown",
   "metadata": {},
   "source": [
    "#### Biases of the layer $l_2$"
   ]
  },
  {
   "cell_type": "markdown",
   "metadata": {},
   "source": [
    "Since the layer 2 has 3 neurons, this matrix will be of the size $3x1$."
   ]
  },
  {
   "cell_type": "markdown",
   "metadata": {},
   "source": [
    "$$\n",
    "\\mathbf{b}^{(l_2)}\n",
    "=\n",
    "\\underset{\\mathbf{3x1}}{\n",
    "\\begin{bmatrix}\n",
    "b_{1}^{(l_2)}\\\\\n",
    "b_{2}^{(l_2)}\\\\\n",
    "b_{3}^{(l_2)}\\\\\n",
    "\\end{bmatrix}\\\\\n",
    "}\n",
    "$$"
   ]
  },
  {
   "cell_type": "markdown",
   "metadata": {},
   "source": [
    "By using the  _nympy_'s function `random.randn`, encode the vector $\\mathbf{b}^{(l_2)}$, fill it with normally distributed random values  and store it in the variable `b_2`:"
   ]
  },
  {
   "cell_type": "code",
   "execution_count": null,
   "metadata": {},
   "outputs": [],
   "source": []
  },
  {
   "cell_type": "markdown",
   "metadata": {},
   "source": [
    "#### Biases of the layer $l_3$"
   ]
  },
  {
   "cell_type": "markdown",
   "metadata": {},
   "source": [
    "Since the third layer has two neurons, it will also have 2 biases:"
   ]
  },
  {
   "cell_type": "markdown",
   "metadata": {},
   "source": [
    "$$\n",
    "\\mathbf{b}^{(l_3)}\n",
    "=\n",
    "\\underset{\\mathbf{2x1}}{\n",
    "\\begin{bmatrix}\n",
    "b_{1}^{(l_3)}\\\\\n",
    "b_{2}^{(l_3)}\\\\\n",
    "\\end{bmatrix}\\\\\n",
    "}\n",
    "$$"
   ]
  },
  {
   "cell_type": "markdown",
   "metadata": {},
   "source": [
    "Encode the vector $\\mathbf{b}^{(l_3)}$, fill it with normally distributed random values  and store it in the variable `b_3`:"
   ]
  },
  {
   "cell_type": "code",
   "execution_count": null,
   "metadata": {},
   "outputs": [],
   "source": []
  },
  {
   "cell_type": "markdown",
   "metadata": {},
   "source": [
    "### Activations"
   ]
  },
  {
   "cell_type": "markdown",
   "metadata": {},
   "source": [
    "<img src=\"img/neural_networks_31.png\" alt=\"drawing\" width=\"400\"/>"
   ]
  },
  {
   "cell_type": "markdown",
   "metadata": {},
   "source": [
    "#### Activations of the layer $l_1$"
   ]
  },
  {
   "cell_type": "markdown",
   "metadata": {},
   "source": [
    "$$\n",
    "\\mathbf{a}^{(l_1)}\n",
    "=\n",
    "\\underset{\\mathbf{2x1}}{\n",
    "\\begin{bmatrix}\n",
    "a_{1}^{(l_1)}\\\\\n",
    "a_{2}^{(l_1)}\\\\\n",
    "\\end{bmatrix}\\\\\n",
    "}\n",
    "$$"
   ]
  },
  {
   "cell_type": "markdown",
   "metadata": {},
   "source": [
    "Encode the vector $\\mathbf{a}^{(l_1)}$, fill it with the coordinates of the first data point `[1.2, 0.7]` and store it in the variable `a_1`. You can use array reshape and/or transpose functions."
   ]
  },
  {
   "cell_type": "code",
   "execution_count": null,
   "metadata": {},
   "outputs": [],
   "source": []
  },
  {
   "cell_type": "markdown",
   "metadata": {},
   "source": [
    "#### Activations of the layer $l_2$"
   ]
  },
  {
   "cell_type": "markdown",
   "metadata": {},
   "source": [
    "To compute the weighted sum for the layer 2, we can use the following formula:"
   ]
  },
  {
   "cell_type": "markdown",
   "metadata": {},
   "source": [
    "\\begin{align*}  \n",
    "\\underset{\\mathbf{3x1}}{\n",
    "\\begin{bmatrix}\n",
    "z_1^{(l_2)}\\\\\n",
    "z_2^{(l_2)}\\\\\n",
    "z_3^{(l_2)}\\\\\n",
    "\\end{bmatrix}}\n",
    "&=\n",
    "\\underset{\\mathbf{3x2}}{\n",
    "\\begin{bmatrix}\n",
    "w_{11}^{(l_2)} & w_{12}^{(l_2)}\\\\\n",
    "w_{21}^{(l_2)} & w_{22}^{(l_2)}\\\\\n",
    "w_{31}^{(l_2)} & w_{32}^{(l_2)}\\\\\n",
    "\\end{bmatrix}\\\\\n",
    "}\n",
    "\\times\n",
    "\\underset{\\mathbf{2x1}}{\n",
    "\\begin{bmatrix}\n",
    "a_{1}^{(l_1)}\\\\\n",
    "a_{2}^{(l_1)}\\\\\n",
    "\\end{bmatrix}\\\\\n",
    "}\n",
    "+\n",
    "\\underset{\\mathbf{3x1}}{\n",
    "\\begin{bmatrix}\n",
    "b_{1}^{(l_2)}\\\\\n",
    "b_{2}^{(l_2)}\\\\\n",
    "b_{3}^{(l_2)}\\\\\n",
    "\\end{bmatrix}\\\\\n",
    "}\\\\\\\\\n",
    "\\end{align*}  "
   ]
  },
  {
   "cell_type": "markdown",
   "metadata": {},
   "source": [
    "$$\n",
    "\\mathbf{z}^{(l_2)}=\\mathbf{W}^{(l_2)}\\cdot \\mathbf{a}^{(l_1)}+\\mathbf{b}^{(l_2)}\n",
    "$$"
   ]
  },
  {
   "cell_type": "markdown",
   "metadata": {},
   "source": [
    "Compute the vector containing the weighted sums of the layer 2 and store it in the variable`z_2`:"
   ]
  },
  {
   "cell_type": "code",
   "execution_count": null,
   "metadata": {},
   "outputs": [],
   "source": []
  },
  {
   "cell_type": "markdown",
   "metadata": {},
   "source": [
    "To compute the activations, of the layer 2we just need to apply sigmoid activation to the matrix $\\mathbf{z}^{(l_2)}$ `(z_2)`"
   ]
  },
  {
   "cell_type": "markdown",
   "metadata": {},
   "source": [
    "$$\n",
    "\\mathbf{a}^{(l_2)}\n",
    "\\equiv\n",
    "\\begin{bmatrix}\n",
    "a_{1}^{(l_2)}\\\\\n",
    "a_{2}^{(l_2)}\\\\\n",
    "a_{3}^{(l_2)}\\\\\n",
    "\\end{bmatrix}\n",
    "=\n",
    "\\sigma(\\mathbf{z}^{(l_2)})\n",
    "\\equiv\n",
    "\\sigma\n",
    "\\left(\\;\n",
    "\\begin{bmatrix}\n",
    "z_{1}^{(l_2)}\\\\\n",
    "z_{2}^{(l_2)}\\\\\n",
    "z_{3}^{(l_2)}\\\\\n",
    "\\end{bmatrix}\\;\n",
    "\\right)\n",
    "\\equiv\n",
    "\\begin{bmatrix}\n",
    "\\sigma(z_1^{(l_2)})\\\\\n",
    "\\sigma(z_2^{(l_2)})\\\\\n",
    "\\sigma(z_3^{(l_2)})\\\\\n",
    "\\end{bmatrix}\n",
    "$$"
   ]
  },
  {
   "cell_type": "markdown",
   "metadata": {},
   "source": [
    "Define the sigmoid function that takes vector input:"
   ]
  },
  {
   "cell_type": "code",
   "execution_count": null,
   "metadata": {},
   "outputs": [],
   "source": []
  },
  {
   "cell_type": "markdown",
   "metadata": {},
   "source": [
    "Compute the activations of the second layer,  $\\mathbf{a}^{(l_2)}$ and store it in the variable `a_2`:"
   ]
  },
  {
   "cell_type": "code",
   "execution_count": null,
   "metadata": {},
   "outputs": [],
   "source": []
  },
  {
   "cell_type": "markdown",
   "metadata": {},
   "source": [
    "#### Activations of the layer $l_3$"
   ]
  },
  {
   "cell_type": "markdown",
   "metadata": {},
   "source": [
    "To compute the activations for the layer 3, we apply the same procedure we did for the level 2. To compute the weighted average matrix of the layer 3 we compute a matrix product of the weight matrix of the layer 3 with the activation matrix of the layer before (layer 2), and add the bias matrix of the level 3:"
   ]
  },
  {
   "cell_type": "markdown",
   "metadata": {},
   "source": [
    "\\begin{align*}  \n",
    "\\underset{\\mathbf{2x1}}{\n",
    "\\begin{bmatrix}\n",
    "z_1^{(l_3)}\\\\\n",
    "z_2^{(l_3)}\\\\\n",
    "\\end{bmatrix}}\n",
    "&=\n",
    "\\underset{\\mathbf{2x3}}{\n",
    "\\begin{bmatrix}\n",
    "w_{11}^{(l_3)} & w_{12}^{(l_3)} & w_{13}^{(l_3)}\\\\\n",
    "w_{21}^{(l_3)} & w_{22}^{(l_3)} & w_{23}^{(l_3)}\\\\\n",
    "\\end{bmatrix}\\\\\n",
    "}\n",
    "\\times\n",
    "\\underset{\\mathbf{3x1}}{\n",
    "\\begin{bmatrix}\n",
    "a_{1}^{(l_2)}\\\\\n",
    "a_{2}^{(l_2)}\\\\\n",
    "a_{3}^{(l_2)}\\\\\n",
    "\\end{bmatrix}\\\\\n",
    "}\n",
    "+\n",
    "\\underset{\\mathbf{2x1}}{\n",
    "\\begin{bmatrix}\n",
    "b_{1}^{(l_3)}\\\\\n",
    "b_{2}^{(l_3)}\\\\\n",
    "\\end{bmatrix}\\\\\n",
    "}\\\\\\\\\n",
    "\\end{align*} "
   ]
  },
  {
   "cell_type": "markdown",
   "metadata": {},
   "source": [
    "$$\n",
    "\\mathbf{z}^{(l_3)}=\\mathbf{W}^{(l_3)}\\times \\mathbf{a}^{(l_2)}+\\mathbf{b}^{(l_3)}\n",
    "$$"
   ]
  },
  {
   "cell_type": "markdown",
   "metadata": {},
   "source": [
    "Compute the vector containing the weighted sums of the layer 3 and store it in the variable`z_3`:"
   ]
  },
  {
   "cell_type": "code",
   "execution_count": null,
   "metadata": {},
   "outputs": [],
   "source": []
  },
  {
   "cell_type": "markdown",
   "metadata": {},
   "source": [
    "To compute the final activation of the layer 3 (output layer), we apply the sigmoid function to the weighted average:"
   ]
  },
  {
   "cell_type": "markdown",
   "metadata": {},
   "source": [
    "$$\n",
    "\\mathbf{a}^{(l_3)}\n",
    "\\equiv\n",
    "\\begin{bmatrix}\n",
    "a_{1}^{(l_3)}\\\\\n",
    "a_{2}^{(l_3)}\\\\\n",
    "\\end{bmatrix}\n",
    "=\n",
    "\\sigma(\\mathbf{z}^{(l_3)})\n",
    "\\equiv\n",
    "\\begin{bmatrix}\n",
    "\\sigma(z_1^{(l_3)})\\\\\n",
    "\\sigma(z_2^{(l_3)})\\\\\n",
    "\\end{bmatrix}\n",
    "$$"
   ]
  },
  {
   "cell_type": "markdown",
   "metadata": {},
   "source": [
    "Compute the activations of the third layer, $\\mathbf{a}^{(l_3)}$ and store it in the variable `a_3`:"
   ]
  },
  {
   "cell_type": "code",
   "execution_count": null,
   "metadata": {},
   "outputs": [],
   "source": []
  },
  {
   "cell_type": "markdown",
   "metadata": {},
   "source": [
    "## Cost function"
   ]
  },
  {
   "cell_type": "markdown",
   "metadata": {},
   "source": [
    " The data point we were using to compute the forward pass contains coordinates `[1.2, 0.7]` , and it is associated with the label `1`. "
   ]
  },
  {
   "cell_type": "markdown",
   "metadata": {},
   "source": [
    "As we have seen in the previous case, we need to interpret the data labels `1` and `0` by means of 2 neurons. The output of the first neuron encodes the probability that the label is `1`, and the second the probability that the label is `0`. In the last exercise, we used the function `convert_label` to convert the labels:"
   ]
  },
  {
   "cell_type": "code",
   "execution_count": 49,
   "metadata": {},
   "outputs": [],
   "source": [
    "def convert_label(label):\n",
    "    if (label == 1):\n",
    "        return (1,0)\n",
    "    if (label == 0):\n",
    "        return (0,1)"
   ]
  },
  {
   "cell_type": "code",
   "execution_count": 56,
   "metadata": {},
   "outputs": [
    {
     "data": {
      "text/plain": [
       "array([[1],\n",
       "       [0]])"
      ]
     },
     "execution_count": 56,
     "metadata": {},
     "output_type": "execute_result"
    }
   ],
   "source": [
    "convert_label(1)"
   ]
  },
  {
   "cell_type": "code",
   "execution_count": 57,
   "metadata": {},
   "outputs": [
    {
     "data": {
      "text/plain": [
       "array([[0],\n",
       "       [1]])"
      ]
     },
     "execution_count": 57,
     "metadata": {},
     "output_type": "execute_result"
    }
   ],
   "source": [
    "convert_label(0)"
   ]
  },
  {
   "cell_type": "markdown",
   "metadata": {},
   "source": [
    "Redefine the function `convert_label`to output column vectors of probabilities:"
   ]
  },
  {
   "cell_type": "code",
   "execution_count": null,
   "metadata": {},
   "outputs": [],
   "source": []
  },
  {
   "cell_type": "markdown",
   "metadata": {},
   "source": [
    "Convert the label associated with the first data point `[1.2, 0.7]`, and store it into the variable `y`:"
   ]
  },
  {
   "cell_type": "code",
   "execution_count": null,
   "metadata": {},
   "outputs": [],
   "source": []
  },
  {
   "cell_type": "markdown",
   "metadata": {},
   "source": [
    "Again, we will be using the _quadratic cost function_ to compute the cost of our example. Since we have two output layers, the formula for computing the cost of a single training example we will be:"
   ]
  },
  {
   "cell_type": "markdown",
   "metadata": {},
   "source": [
    "$$\n",
    "TC = (a_1^{(l_3)}-y_1)^2+(a_2^{(l_3)}-y_2)^2\n",
    "$$"
   ]
  },
  {
   "cell_type": "markdown",
   "metadata": {},
   "source": [
    "This means that we need to substract the activation of each neuron in the output layer from the true label associated with this neuron, square it and sum the squared terms. This same equation can be represented in simpler terms by using vectors:"
   ]
  },
  {
   "cell_type": "markdown",
   "metadata": {},
   "source": [
    "$$\n",
    "TC =\\|a^{(l_3)}-y \\|^2\n",
    "$$"
   ]
  },
  {
   "cell_type": "markdown",
   "metadata": {},
   "source": [
    "Compute the total cost and store it in the variable `TC`:"
   ]
  },
  {
   "cell_type": "code",
   "execution_count": null,
   "metadata": {},
   "outputs": [],
   "source": []
  },
  {
   "cell_type": "markdown",
   "metadata": {},
   "source": [
    "## Computing the backward pass"
   ]
  },
  {
   "cell_type": "markdown",
   "metadata": {},
   "source": [
    "### Computing the derivatives of the cost function"
   ]
  },
  {
   "cell_type": "markdown",
   "metadata": {},
   "source": [
    "The computation of the partial derivatives in $\\frac{\\partial C_x}{\\partial a^{(l_3)}}$ boils down to a difference between two column vectors:\n",
    "\n",
    "$$\\frac{\\partial TC}{\\partial a^{(l_3)}} = 2(a^{(l_3)}-y)$$"
   ]
  },
  {
   "cell_type": "markdown",
   "metadata": {},
   "source": [
    "Compute $\\frac{\\partial TC}{\\partial a^{(l_3)}}$:"
   ]
  },
  {
   "cell_type": "code",
   "execution_count": null,
   "metadata": {},
   "outputs": [],
   "source": []
  },
  {
   "cell_type": "markdown",
   "metadata": {},
   "source": [
    "We rename the partial derivates of the total cost in terms of the weighted sums $\\frac{\\partial TC}{\\partial z^{(l_3)}}$ and $\\frac{\\partial TC}{\\partial z^{(l_2)}}$ store them in the following vectors:"
   ]
  },
  {
   "cell_type": "markdown",
   "metadata": {},
   "source": [
    "$$\n",
    "\\delta^{(l_3)}\n",
    "=\n",
    "\\begin{bmatrix}\n",
    "\\delta_1^{(l_3)}\\\\\n",
    "\\delta_2^{(l_3)}\\\\\n",
    "\\end{bmatrix};\\quad\n",
    "\\delta^{(l_2)}\n",
    "=\n",
    "\\begin{bmatrix}\n",
    "\\delta_1^{(l_2)}\\\\\n",
    "\\delta_2^{(l_2)}\\\\\n",
    "\\delta_3^{(l_2)}\\\\\n",
    "\\end{bmatrix};\n",
    "$$"
   ]
  },
  {
   "cell_type": "markdown",
   "metadata": {},
   "source": [
    "### Computing the derivatives of the  weighted sums in the output layer $\\delta^{(l_3)}$:"
   ]
  },
  {
   "cell_type": "markdown",
   "metadata": {},
   "source": [
    "Computing the $\\delta^{(l_3)}$ is described using the previously defined formula: <br> <br>\n",
    "$$\n",
    "\\delta^{(l_3)}=2\\left(\\mathbf{a}^{(l_3)}-\\mathbf{y}\\right)\\odot \\mathbf{a}^{(l_3)} \\odot \\left(\\mathbf{1}-\\mathbf{a}^{(l_3)}\\right) \n",
    "$$"
   ]
  },
  {
   "cell_type": "markdown",
   "metadata": {},
   "source": [
    "Compute $\\delta^{(l_3)}$ and store it in a variable `delta_3`:"
   ]
  },
  {
   "cell_type": "code",
   "execution_count": null,
   "metadata": {},
   "outputs": [],
   "source": []
  },
  {
   "cell_type": "markdown",
   "metadata": {},
   "source": [
    "### Computing the derivatives of the weighted sums in the hidden layer $\\delta^{(l_2)}$:"
   ]
  },
  {
   "cell_type": "markdown",
   "metadata": {},
   "source": [
    "Computing the $\\delta^{(l_2)}$ is described using the previously defined formula: <br> <br>\n",
    "$$\\delta^{(l_2)}=\\mathbf{a}^{(l_2)}\\left(1-\\mathbf{a}^{(l_2)}\\right)\\odot \\mathbf{W^T}^{(l_3)} \\cdot \\mathbf{\\delta}^{(l_3)}$$"
   ]
  },
  {
   "cell_type": "markdown",
   "metadata": {},
   "source": [
    "Compute $\\delta^{(l_2)}$ and store it in a variable `delta_2`:"
   ]
  },
  {
   "cell_type": "code",
   "execution_count": null,
   "metadata": {},
   "outputs": [],
   "source": []
  },
  {
   "cell_type": "markdown",
   "metadata": {},
   "source": [
    "### Computing the derivatives of the biases in the output layer $\\mathbf{b}^{(l_3)}$:"
   ]
  },
  {
   "cell_type": "markdown",
   "metadata": {},
   "source": [
    "Once we know the partial derivatives of the cost in respect to the weighted averages, computing the biases is trivial. Since a bias is only added to the multiplications of weights and activations, its derivative is equal to 1. Therefore, the biases of a certain layer have the same value as the weighted averages of that layer:"
   ]
  },
  {
   "cell_type": "markdown",
   "metadata": {},
   "source": [
    "Compute the vector containing partial derivatives of the total cost in terms of biases of the third layer, and store it in the variable `db_3`:"
   ]
  },
  {
   "cell_type": "code",
   "execution_count": null,
   "metadata": {},
   "outputs": [],
   "source": []
  },
  {
   "cell_type": "markdown",
   "metadata": {},
   "source": [
    "### Computing the derivatives of the biases of the hidden layer $\\mathbf{b}^{(l_2)}$:"
   ]
  },
  {
   "cell_type": "markdown",
   "metadata": {},
   "source": [
    "Compute the vector containing partial derivatives of the total cost in terms of biases of the second layer, and store it in the variable `db_2`:"
   ]
  },
  {
   "cell_type": "code",
   "execution_count": null,
   "metadata": {},
   "outputs": [],
   "source": []
  },
  {
   "cell_type": "markdown",
   "metadata": {},
   "source": [
    "### Computing the derivatives of the weights in the output layer $\\mathbf{W}^{(l_3)}$:"
   ]
  },
  {
   "cell_type": "markdown",
   "metadata": {},
   "source": [
    "We can compute the matrix product of the already computed weighted average of the layer 3 and this transposed activation matrix:"
   ]
  },
  {
   "cell_type": "markdown",
   "metadata": {},
   "source": [
    "$$\n",
    "\\begin{align*}\n",
    "\\partial \\mathbf{W}^{(l_3)}=\n",
    "\\delta^{(l_3)}\\cdot\\left(a^{(l_2)}\\right)^T\n",
    "&=\n",
    "\\underset{\\mathbf{2x1}}{\n",
    "\\begin{bmatrix}\n",
    "\\delta_1^{(l_3)}\\\\\n",
    "\\delta_2^{(l_3)}\\\\\n",
    "\\end{bmatrix}}\n",
    "\\cdot\n",
    "\\underset{\\mathbf{1x3}}{\n",
    "\\begin{bmatrix}\n",
    "a_{1}^{(l_2)} & a_{2}^{(l_2)} & a_{3}^{(l_2)}\n",
    "\\end{bmatrix}}\\\\\\\\\n",
    "&=\n",
    "\\underset{\\mathbf{2x3}}{\n",
    "\\begin{bmatrix}\n",
    "\\delta_1^{(l_3)} a_{1}^{(l_2)} & \\delta_1^{(l_3)} a_{2}^{(l_2)} & \\delta_1^{(l_3)} a_{3}^{(l_2)} \\\\\n",
    "\\delta_2^{(l_3)} a_{1}^{(l_2)} & \\delta_2^{(l_3)} a_{2}^{(l_2)} & \\delta_2^{(l_3)} a_{3}^{(l_2)} \\\\\n",
    "\\end{bmatrix}}\\\\\n",
    "\\end{align*}\n",
    "$$"
   ]
  },
  {
   "cell_type": "markdown",
   "metadata": {},
   "source": [
    "Compute the vector containing partial derivatives of the total cost in terms of weights of the third layer, and store it in the variable `dW_3`:"
   ]
  },
  {
   "cell_type": "code",
   "execution_count": null,
   "metadata": {},
   "outputs": [],
   "source": []
  },
  {
   "cell_type": "markdown",
   "metadata": {},
   "source": [
    "### Computing the derivatives of the weights in the hidden layer $\\mathbf{W}^{(l_2)}$:"
   ]
  },
  {
   "cell_type": "markdown",
   "metadata": {},
   "source": [
    "We can compute the dot product of the already computed weighted average of the layer 2 and this transposed activation matrix:"
   ]
  },
  {
   "cell_type": "markdown",
   "metadata": {},
   "source": [
    "$$\n",
    "\\begin{align*}\n",
    "\\partial \\mathbf{W}^{(l_2)}=\n",
    "\\delta^{(l_2)}\\cdot\\left(a^{(l_1)}\\right)^T\n",
    "&=\n",
    "\\underset{\\mathbf{3x1}}{\n",
    "\\begin{bmatrix}\n",
    "\\delta_1^{(l_2)}\\\\\n",
    "\\delta_2^{(l_2)}\\\\\n",
    "\\delta_3^{(l_2)}\\\\\n",
    "\\end{bmatrix}}\n",
    "\\cdot\n",
    "\\underset{\\mathbf{1x2}}{\n",
    "\\begin{bmatrix}\n",
    "a_{1}^{(l_2)} & a_{2}^{(l_2)}\n",
    "\\end{bmatrix}}\\\\\\\\\n",
    "&=\n",
    "\\underset{\\mathbf{3x2}}{\n",
    "\\begin{bmatrix}\n",
    "\\delta_1^{(l_3)} a_{1}^{(l_2)} & \\delta_1^{(l_3)} a_{2}^{(l_2)} \\\\\n",
    "\\delta_2^{(l_3)} a_{1}^{(l_2)} & \\delta_2^{(l_3)} a_{2}^{(l_2)} \\\\\n",
    "\\delta_3^{(l_3)} a_{1}^{(l_2)} & \\delta_3^{(l_3)} a_{2}^{(l_2)}\n",
    "\\end{bmatrix}}\\\\\n",
    "\\end{align*}\n",
    "$$"
   ]
  },
  {
   "cell_type": "markdown",
   "metadata": {},
   "source": [
    "Compute the vector containing partial derivatives of the total cost in terms of weights of the second layer, and store it in the variable `dW_2`:"
   ]
  },
  {
   "cell_type": "code",
   "execution_count": null,
   "metadata": {},
   "outputs": [],
   "source": []
  },
  {
   "cell_type": "markdown",
   "metadata": {},
   "source": [
    "***"
   ]
  },
  {
   "cell_type": "markdown",
   "metadata": {},
   "source": [
    "## Updating the weights and the biases of the neural network"
   ]
  },
  {
   "cell_type": "markdown",
   "metadata": {},
   "source": [
    "Introduce the variable `step_size`, initialise it with a small value, and update the weights and biases:"
   ]
  },
  {
   "cell_type": "code",
   "execution_count": null,
   "metadata": {},
   "outputs": [],
   "source": []
  },
  {
   "cell_type": "markdown",
   "metadata": {},
   "source": [
    "What we want to achieve with training is that our network outputs the value as close as possible to the label, which the data is associated with. Print the current label:"
   ]
  },
  {
   "cell_type": "code",
   "execution_count": null,
   "metadata": {},
   "outputs": [],
   "source": []
  },
  {
   "cell_type": "markdown",
   "metadata": {},
   "source": [
    "Print the activation vector of the last layer:"
   ]
  },
  {
   "cell_type": "code",
   "execution_count": null,
   "metadata": {},
   "outputs": [],
   "source": []
  },
  {
   "cell_type": "markdown",
   "metadata": {},
   "source": [
    "Compute the new activation of the last layer by computing the forward pass again with the updated weights and biases:"
   ]
  },
  {
   "cell_type": "code",
   "execution_count": null,
   "metadata": {},
   "outputs": [],
   "source": []
  },
  {
   "cell_type": "markdown",
   "metadata": {},
   "source": [
    "Compute the cost/loss, and store it in the variable `TC_new`:"
   ]
  },
  {
   "cell_type": "code",
   "execution_count": null,
   "metadata": {},
   "outputs": [],
   "source": []
  },
  {
   "cell_type": "markdown",
   "metadata": {},
   "source": [
    "Compare the old cost, and the new cost:"
   ]
  },
  {
   "cell_type": "code",
   "execution_count": null,
   "metadata": {},
   "outputs": [],
   "source": []
  }
 ],
 "metadata": {
  "kernelspec": {
   "display_name": "Python 3",
   "language": "python",
   "name": "python3"
  },
  "language_info": {
   "codemirror_mode": {
    "name": "ipython",
    "version": 3
   },
   "file_extension": ".py",
   "mimetype": "text/x-python",
   "name": "python",
   "nbconvert_exporter": "python",
   "pygments_lexer": "ipython3",
   "version": "3.7.0"
  }
 },
 "nbformat": 4,
 "nbformat_minor": 2
}
